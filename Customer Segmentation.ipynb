{
 "cells": [
  {
   "cell_type": "code",
   "execution_count": 3,
   "metadata": {},
   "outputs": [],
   "source": [
    "import pandas as pd\n",
    "import numpy as np\n",
    "import matplotlib.pyplot as plt\n",
    "import seaborn as sns"
   ]
  },
  {
   "cell_type": "code",
   "execution_count": 4,
   "metadata": {},
   "outputs": [],
   "source": [
    "ds=pd.read_csv(\"Customer Segmentation.csv\")"
   ]
  },
  {
   "cell_type": "code",
   "execution_count": 5,
   "metadata": {},
   "outputs": [
    {
     "data": {
      "text/html": [
       "<div>\n",
       "<style scoped>\n",
       "    .dataframe tbody tr th:only-of-type {\n",
       "        vertical-align: middle;\n",
       "    }\n",
       "\n",
       "    .dataframe tbody tr th {\n",
       "        vertical-align: top;\n",
       "    }\n",
       "\n",
       "    .dataframe thead th {\n",
       "        text-align: right;\n",
       "    }\n",
       "</style>\n",
       "<table border=\"1\" class=\"dataframe\">\n",
       "  <thead>\n",
       "    <tr style=\"text-align: right;\">\n",
       "      <th></th>\n",
       "      <th>first_name</th>\n",
       "      <th>last_name</th>\n",
       "      <th>title</th>\n",
       "      <th>gender</th>\n",
       "      <th>email</th>\n",
       "      <th>city</th>\n",
       "      <th>country</th>\n",
       "      <th>country_code</th>\n",
       "      <th>latitude</th>\n",
       "      <th>longitude</th>\n",
       "      <th>...</th>\n",
       "      <th>street_number</th>\n",
       "      <th>street_suffix</th>\n",
       "      <th>time_zone</th>\n",
       "      <th>company_name</th>\n",
       "      <th>department</th>\n",
       "      <th>job_title</th>\n",
       "      <th>language</th>\n",
       "      <th>university</th>\n",
       "      <th>linkedin_skill</th>\n",
       "      <th>ip_address</th>\n",
       "    </tr>\n",
       "  </thead>\n",
       "  <tbody>\n",
       "    <tr>\n",
       "      <th>0</th>\n",
       "      <td>Priscella</td>\n",
       "      <td>Pollett</td>\n",
       "      <td>Honorable</td>\n",
       "      <td>Agender</td>\n",
       "      <td>ppollett0@foxnews.com</td>\n",
       "      <td>Sesheke</td>\n",
       "      <td>Zambia</td>\n",
       "      <td>ZM</td>\n",
       "      <td>-17.473886</td>\n",
       "      <td>24.295514</td>\n",
       "      <td>...</td>\n",
       "      <td>90004</td>\n",
       "      <td>Crossing</td>\n",
       "      <td>Africa/Lusaka</td>\n",
       "      <td>Omba</td>\n",
       "      <td>Support</td>\n",
       "      <td>Internal Auditor</td>\n",
       "      <td>Indonesian</td>\n",
       "      <td>University of Zambia</td>\n",
       "      <td>Lifestyle</td>\n",
       "      <td>129.60.144.253</td>\n",
       "    </tr>\n",
       "    <tr>\n",
       "      <th>1</th>\n",
       "      <td>Ana</td>\n",
       "      <td>Onge</td>\n",
       "      <td>Mr</td>\n",
       "      <td>Male</td>\n",
       "      <td>aonge1@fda.gov</td>\n",
       "      <td>Querecotillo</td>\n",
       "      <td>Peru</td>\n",
       "      <td>PE</td>\n",
       "      <td>-4.838304</td>\n",
       "      <td>-80.648215</td>\n",
       "      <td>...</td>\n",
       "      <td>9</td>\n",
       "      <td>Center</td>\n",
       "      <td>America/Lima</td>\n",
       "      <td>Cogidoo</td>\n",
       "      <td>Sales</td>\n",
       "      <td>Compensation Analyst</td>\n",
       "      <td>Fijian</td>\n",
       "      <td>Universidad Nacional de San Antonio Abad</td>\n",
       "      <td>Healthcare Industry</td>\n",
       "      <td>100.2.67.41</td>\n",
       "    </tr>\n",
       "    <tr>\n",
       "      <th>2</th>\n",
       "      <td>Butch</td>\n",
       "      <td>Rawls</td>\n",
       "      <td>Mrs</td>\n",
       "      <td>Male</td>\n",
       "      <td>brawls2@slideshare.net</td>\n",
       "      <td>Licupis</td>\n",
       "      <td>Peru</td>\n",
       "      <td>PE</td>\n",
       "      <td>-6.424052</td>\n",
       "      <td>-79.242648</td>\n",
       "      <td>...</td>\n",
       "      <td>5104</td>\n",
       "      <td>Point</td>\n",
       "      <td>America/Lima</td>\n",
       "      <td>Edgewire</td>\n",
       "      <td>Support</td>\n",
       "      <td>Health Coach II</td>\n",
       "      <td>Gujarati</td>\n",
       "      <td>Universidad Nacional de San Martín</td>\n",
       "      <td>Visual SVN</td>\n",
       "      <td>48.161.197.47</td>\n",
       "    </tr>\n",
       "    <tr>\n",
       "      <th>3</th>\n",
       "      <td>Ambros</td>\n",
       "      <td>Fairrie</td>\n",
       "      <td>Rev</td>\n",
       "      <td>Male</td>\n",
       "      <td>afairrie3@reuters.com</td>\n",
       "      <td>Yonghe</td>\n",
       "      <td>China</td>\n",
       "      <td>CN</td>\n",
       "      <td>36.759507</td>\n",
       "      <td>110.632006</td>\n",
       "      <td>...</td>\n",
       "      <td>8</td>\n",
       "      <td>Center</td>\n",
       "      <td>Asia/Harbin</td>\n",
       "      <td>Digitube</td>\n",
       "      <td>Support</td>\n",
       "      <td>General Manager</td>\n",
       "      <td>Belarusian</td>\n",
       "      <td>Fuzhou University</td>\n",
       "      <td>Nanofabrication</td>\n",
       "      <td>36.188.226.116</td>\n",
       "    </tr>\n",
       "    <tr>\n",
       "      <th>4</th>\n",
       "      <td>Gaylene</td>\n",
       "      <td>Titcomb</td>\n",
       "      <td>Honorable</td>\n",
       "      <td>Female</td>\n",
       "      <td>gtitcomb4@dyndns.org</td>\n",
       "      <td>Wang Yang</td>\n",
       "      <td>Thailand</td>\n",
       "      <td>TH</td>\n",
       "      <td>17.074088</td>\n",
       "      <td>104.449040</td>\n",
       "      <td>...</td>\n",
       "      <td>994</td>\n",
       "      <td>Trail</td>\n",
       "      <td>Asia/Bangkok</td>\n",
       "      <td>Quaxo</td>\n",
       "      <td>Engineering</td>\n",
       "      <td>Internal Auditor</td>\n",
       "      <td>Papiamento</td>\n",
       "      <td>Mahachulalongkorn Buddhist University</td>\n",
       "      <td>AQL</td>\n",
       "      <td>181.24.84.57</td>\n",
       "    </tr>\n",
       "  </tbody>\n",
       "</table>\n",
       "<p>5 rows × 23 columns</p>\n",
       "</div>"
      ],
      "text/plain": [
       "  first_name last_name      title   gender                   email  \\\n",
       "0  Priscella   Pollett  Honorable  Agender   ppollett0@foxnews.com   \n",
       "1        Ana      Onge         Mr     Male          aonge1@fda.gov   \n",
       "2      Butch     Rawls        Mrs     Male  brawls2@slideshare.net   \n",
       "3     Ambros   Fairrie        Rev     Male   afairrie3@reuters.com   \n",
       "4    Gaylene   Titcomb  Honorable   Female    gtitcomb4@dyndns.org   \n",
       "\n",
       "           city   country country_code   latitude   longitude       ...        \\\n",
       "0       Sesheke    Zambia           ZM -17.473886   24.295514       ...         \n",
       "1  Querecotillo      Peru           PE  -4.838304  -80.648215       ...         \n",
       "2       Licupis      Peru           PE  -6.424052  -79.242648       ...         \n",
       "3        Yonghe     China           CN  36.759507  110.632006       ...         \n",
       "4     Wang Yang  Thailand           TH  17.074088  104.449040       ...         \n",
       "\n",
       "  street_number street_suffix      time_zone  company_name   department  \\\n",
       "0         90004      Crossing  Africa/Lusaka          Omba      Support   \n",
       "1             9        Center   America/Lima       Cogidoo        Sales   \n",
       "2          5104         Point   America/Lima      Edgewire      Support   \n",
       "3             8        Center    Asia/Harbin      Digitube      Support   \n",
       "4           994         Trail   Asia/Bangkok         Quaxo  Engineering   \n",
       "\n",
       "              job_title    language                                university  \\\n",
       "0      Internal Auditor  Indonesian                      University of Zambia   \n",
       "1  Compensation Analyst      Fijian  Universidad Nacional de San Antonio Abad   \n",
       "2       Health Coach II    Gujarati        Universidad Nacional de San Martín   \n",
       "3       General Manager  Belarusian                         Fuzhou University   \n",
       "4      Internal Auditor  Papiamento     Mahachulalongkorn Buddhist University   \n",
       "\n",
       "        linkedin_skill      ip_address  \n",
       "0            Lifestyle  129.60.144.253  \n",
       "1  Healthcare Industry     100.2.67.41  \n",
       "2           Visual SVN   48.161.197.47  \n",
       "3      Nanofabrication  36.188.226.116  \n",
       "4                  AQL    181.24.84.57  \n",
       "\n",
       "[5 rows x 23 columns]"
      ]
     },
     "execution_count": 5,
     "metadata": {},
     "output_type": "execute_result"
    }
   ],
   "source": [
    "ds.head()"
   ]
  },
  {
   "cell_type": "code",
   "execution_count": 6,
   "metadata": {},
   "outputs": [
    {
     "name": "stdout",
     "output_type": "stream",
     "text": [
      "<class 'pandas.core.frame.DataFrame'>\n",
      "RangeIndex: 51000 entries, 0 to 50999\n",
      "Data columns (total 23 columns):\n",
      "first_name        51000 non-null object\n",
      "last_name         51000 non-null object\n",
      "title             51000 non-null object\n",
      "gender            51000 non-null object\n",
      "email             51000 non-null object\n",
      "city              51000 non-null object\n",
      "country           51000 non-null object\n",
      "country_code      50966 non-null object\n",
      "latitude          51000 non-null float64\n",
      "longitude         51000 non-null float64\n",
      "phone             51000 non-null object\n",
      "street_address    51000 non-null object\n",
      "street_name       51000 non-null object\n",
      "street_number     51000 non-null int64\n",
      "street_suffix     51000 non-null object\n",
      "time_zone         51000 non-null object\n",
      "company_name      51000 non-null object\n",
      "department        51000 non-null object\n",
      "job_title         51000 non-null object\n",
      "language          51000 non-null object\n",
      "university        51000 non-null object\n",
      "linkedin_skill    51000 non-null object\n",
      "ip_address        51000 non-null object\n",
      "dtypes: float64(2), int64(1), object(20)\n",
      "memory usage: 8.9+ MB\n"
     ]
    }
   ],
   "source": [
    "ds.info()"
   ]
  },
  {
   "cell_type": "code",
   "execution_count": 7,
   "metadata": {},
   "outputs": [
    {
     "data": {
      "text/html": [
       "<div>\n",
       "<style scoped>\n",
       "    .dataframe tbody tr th:only-of-type {\n",
       "        vertical-align: middle;\n",
       "    }\n",
       "\n",
       "    .dataframe tbody tr th {\n",
       "        vertical-align: top;\n",
       "    }\n",
       "\n",
       "    .dataframe thead th {\n",
       "        text-align: right;\n",
       "    }\n",
       "</style>\n",
       "<table border=\"1\" class=\"dataframe\">\n",
       "  <thead>\n",
       "    <tr style=\"text-align: right;\">\n",
       "      <th></th>\n",
       "      <th>latitude</th>\n",
       "      <th>longitude</th>\n",
       "      <th>street_number</th>\n",
       "    </tr>\n",
       "  </thead>\n",
       "  <tbody>\n",
       "    <tr>\n",
       "      <th>count</th>\n",
       "      <td>51000.000000</td>\n",
       "      <td>51000.000000</td>\n",
       "      <td>51000.000000</td>\n",
       "    </tr>\n",
       "    <tr>\n",
       "      <th>mean</th>\n",
       "      <td>24.785394</td>\n",
       "      <td>44.021854</td>\n",
       "      <td>11071.446275</td>\n",
       "    </tr>\n",
       "    <tr>\n",
       "      <th>std</th>\n",
       "      <td>24.522517</td>\n",
       "      <td>70.311057</td>\n",
       "      <td>23366.976562</td>\n",
       "    </tr>\n",
       "    <tr>\n",
       "      <th>min</th>\n",
       "      <td>-54.807950</td>\n",
       "      <td>-178.165510</td>\n",
       "      <td>0.000000</td>\n",
       "    </tr>\n",
       "    <tr>\n",
       "      <th>25%</th>\n",
       "      <td>7.590523</td>\n",
       "      <td>3.367186</td>\n",
       "      <td>21.000000</td>\n",
       "    </tr>\n",
       "    <tr>\n",
       "      <th>50%</th>\n",
       "      <td>30.826141</td>\n",
       "      <td>38.101695</td>\n",
       "      <td>439.000000</td>\n",
       "    </tr>\n",
       "    <tr>\n",
       "      <th>75%</th>\n",
       "      <td>44.303742</td>\n",
       "      <td>111.877499</td>\n",
       "      <td>6760.250000</td>\n",
       "    </tr>\n",
       "    <tr>\n",
       "      <th>max</th>\n",
       "      <td>78.221061</td>\n",
       "      <td>179.350460</td>\n",
       "      <td>99997.000000</td>\n",
       "    </tr>\n",
       "  </tbody>\n",
       "</table>\n",
       "</div>"
      ],
      "text/plain": [
       "           latitude     longitude  street_number\n",
       "count  51000.000000  51000.000000   51000.000000\n",
       "mean      24.785394     44.021854   11071.446275\n",
       "std       24.522517     70.311057   23366.976562\n",
       "min      -54.807950   -178.165510       0.000000\n",
       "25%        7.590523      3.367186      21.000000\n",
       "50%       30.826141     38.101695     439.000000\n",
       "75%       44.303742    111.877499    6760.250000\n",
       "max       78.221061    179.350460   99997.000000"
      ]
     },
     "execution_count": 7,
     "metadata": {},
     "output_type": "execute_result"
    }
   ],
   "source": [
    "ds.describe()"
   ]
  },
  {
   "cell_type": "code",
   "execution_count": 8,
   "metadata": {},
   "outputs": [
    {
     "data": {
      "text/plain": [
       "Index(['first_name', 'last_name', 'title', 'gender', 'email', 'city',\n",
       "       'country', 'country_code', 'latitude', 'longitude', 'phone',\n",
       "       'street_address', 'street_name', 'street_number', 'street_suffix',\n",
       "       'time_zone', 'company_name', 'department', 'job_title', 'language',\n",
       "       'university', 'linkedin_skill', 'ip_address'],\n",
       "      dtype='object')"
      ]
     },
     "execution_count": 8,
     "metadata": {},
     "output_type": "execute_result"
    }
   ],
   "source": [
    "ds.columns"
   ]
  },
  {
   "cell_type": "code",
   "execution_count": 9,
   "metadata": {},
   "outputs": [
    {
     "data": {
      "text/plain": [
       "<matplotlib.axes._subplots.AxesSubplot at 0x125622f4eb8>"
      ]
     },
     "execution_count": 9,
     "metadata": {},
     "output_type": "execute_result"
    },
    {
     "data": {
      "image/png": "[encoded data removed]",
      "text/plain": [
       "<matplotlib.figure.Figure at 0x125622f45c0>"
      ]
     },
     "metadata": {},
     "output_type": "display_data"
    }
   ],
   "source": [
    "plt.figure(figsize=(12,7))\n",
    "sns.countplot(ds['gender'])\n",
    "#Too many values"
   ]
  },
  {
   "cell_type": "code",
   "execution_count": 10,
   "metadata": {},
   "outputs": [],
   "source": [
    "#Replace all genders other than Male and Female as 'others'"
   ]
  },
  {
   "cell_type": "code",
   "execution_count": 11,
   "metadata": {},
   "outputs": [],
   "source": [
    "ds.loc[(ds['gender']!='Male') & (ds['gender']!='Female'), 'gender']='Others'"
   ]
  },
  {
   "cell_type": "code",
   "execution_count": 12,
   "metadata": {},
   "outputs": [
    {
     "data": {
      "text/plain": [
       "<matplotlib.axes._subplots.AxesSubplot at 0x125622f47f0>"
      ]
     },
     "execution_count": 12,
     "metadata": {},
     "output_type": "execute_result"
    },
    {
     "data": {
      "image/png": "[encoded data removed]",
      "text/plain": [
       "<matplotlib.figure.Figure at 0x125622c4c88>"
      ]
     },
     "metadata": {},
     "output_type": "display_data"
    }
   ],
   "source": [
    "sns.countplot(ds['gender'])\n",
    "#'Gender' values are optimised"
   ]
  },
  {
   "cell_type": "code",
   "execution_count": 26,
   "metadata": {},
   "outputs": [
    {
     "data": {
      "text/plain": [
       "<matplotlib.axes._subplots.AxesSubplot at 0x125668382b0>"
      ]
     },
     "execution_count": 26,
     "metadata": {},
     "output_type": "execute_result"
    },
    {
     "data": {
      "image/png": "[encoded data removed]",
      "text/plain": [
       "<matplotlib.figure.Figure at 0x12566445a58>"
      ]
     },
     "metadata": {},
     "output_type": "display_data"
    }
   ],
   "source": [
    "sns.heatmap(ds.corr())"
   ]
  },
  {
   "cell_type": "code",
   "execution_count": 27,
   "metadata": {},
   "outputs": [
    {
     "data": {
      "text/plain": [
       "<matplotlib.axes._subplots.AxesSubplot at 0x12565c68e80>"
      ]
     },
     "execution_count": 27,
     "metadata": {},
     "output_type": "execute_result"
    },
    {
     "data": {
      "image/png": "[encoded data removed]",
      "text/plain": [
       "<matplotlib.figure.Figure at 0x12567d0aac8>"
      ]
     },
     "metadata": {},
     "output_type": "display_data"
    }
   ],
   "source": [
    "sns.countplot(ds['country'])"
   ]
  },
  {
   "cell_type": "code",
   "execution_count": 38,
   "metadata": {},
   "outputs": [
    {
     "data": {
      "text/plain": [
       "<function matplotlib.pyplot.show>"
      ]
     },
     "execution_count": 38,
     "metadata": {},
     "output_type": "execute_result"
    },
    {
     "data": {
      "image/png": "[encoded data removed]",
      "text/plain": [
       "<matplotlib.figure.Figure at 0x1256e8b1c18>"
      ]
     },
     "metadata": {},
     "output_type": "display_data"
    }
   ],
   "source": [
    "plt.figure(figsize=(10,7))\n",
    "fig1=sns.countplot(x=ds['country'], order=pd.value_counts(ds['country']).iloc[:10].index)\n",
    "fig1.set(xlabel='Country',ylabel='# People')\n",
    "plt.show"
   ]
  },
  {
   "cell_type": "code",
   "execution_count": 40,
   "metadata": {},
   "outputs": [
    {
     "data": {
      "image/png": "[encoded data removed]",
      "text/plain": [
       "<matplotlib.figure.Figure at 0x12570cc3ba8>"
      ]
     },
     "metadata": {},
     "output_type": "display_data"
    }
   ],
   "source": [
    "plt.figure(figsize=(15,7))\n",
    "fig2=sns.countplot(x=ds['linkedin_skill'],order=pd.value_counts(ds['linkedin_skill']).iloc[:10].index)\n"
   ]
  },
  {
   "cell_type": "code",
   "execution_count": null,
   "metadata": {},
   "outputs": [],
   "source": []
  }
 ],
 "metadata": {
  "kernelspec": {
   "display_name": "Python 3",
   "language": "python",
   "name": "python3"
  },
  "language_info": {
   "codemirror_mode": {
    "name": "ipython",
    "version": 3
   },
   "file_extension": ".py",
   "mimetype": "text/x-python",
   "name": "python",
   "nbconvert_exporter": "python",
   "pygments_lexer": "ipython3",
   "version": "3.6.4"
  }
 },
 "nbformat": 4,
 "nbformat_minor": 2
}
